{
 "cells": [
  {
   "cell_type": "markdown",
   "id": "b83a0861",
   "metadata": {
    "slideshow": {
     "slide_type": "slide"
    }
   },
   "source": [
    "# **Intro to Python - The Basics**"
   ]
  },
  {
   "cell_type": "markdown",
   "id": "f9b305cf",
   "metadata": {
    "slideshow": {
     "slide_type": "slide"
    }
   },
   "source": [
    "## Why should I learn Programming?\n",
    "\n",
    "- automation: automate repetative tasks\n",
    "- data science: analysing and visualising data\n",
    "- machine learning & AI\n",
    "- ..."
   ]
  },
  {
   "cell_type": "markdown",
   "id": "379e517b",
   "metadata": {
    "slideshow": {
     "slide_type": "slide"
    }
   },
   "source": [
    "## Okay, but why Python?\n",
    "\n",
    "- open source, free to use\n",
    "- high-level language: easy to read\n",
    "- beginner-friendly: easy to learn\n",
    "- popular: lots of tutorials, frequently updated\n",
    "- a lot of packages (existing code) for data science, machine learning, plotting, ..."
   ]
  },
  {
   "cell_type": "markdown",
   "id": "4c1cf737",
   "metadata": {
    "slideshow": {
     "slide_type": "slide"
    }
   },
   "source": [
    "## How do I use Python?"
   ]
  },
  {
   "cell_type": "markdown",
   "id": "20b85405",
   "metadata": {
    "slideshow": {
     "slide_type": "slide"
    }
   },
   "source": [
    "### Option 1: Jupyter Notebooks (what we are using today)\n",
    "\n",
    "- install [Jupyter Notebooks](https://jupyter.org/install.html) and type `jupyter notebook` in the shell: a new browser window should open\n",
    "- create a new document and add Markdown cells (text in a markup language called Markdown) and code cells (containing your code)"
   ]
  },
  {
   "cell_type": "markdown",
   "id": "5c2955a0",
   "metadata": {
    "slideshow": {
     "slide_type": "notes"
    }
   },
   "source": [
    "For more info read this [introduction to Jupyter Notebooks](https://realpython.com/jupyter-notebook-introduction/) or the [documentation](https://jupyter-notebook.readthedocs.io/en/stable/)\n",
    "\n",
    "*Pros & Cons*\n",
    "- interactive output, similar to the interactive mode\n",
    "- good for presenting code \n",
    "- helpful for data exploration and plotting\n",
    "- might get unorganised for large pieces of code, not easy to make modular\n",
    "- code versioning is not easy"
   ]
  },
  {
   "cell_type": "markdown",
   "id": "0d5be0df",
   "metadata": {
    "slideshow": {
     "slide_type": "slide"
    }
   },
   "source": [
    "### Option 2: Interactive mode\n",
    "- install Python and type `python` (this uses the default python version you have installed) in the shell:\n",
    "\n",
    "```\n",
    "> python\n",
    "Python 3.9.6 (default, Aug 18 2021, 12:38:10) \n",
    "[Clang 10.0.0 ] :: Anaconda, Inc. on darwin\n",
    "Type \"help\", \"copyright\", \"credits\" or \"license\" for more information.\n",
    ">>>\n",
    "```"
   ]
  },
  {
   "cell_type": "markdown",
   "id": "89b99157",
   "metadata": {
    "slideshow": {
     "slide_type": "notes"
    }
   },
   "source": [
    "- `>>>` indicates that the Python shell is ready\n",
    "- leave interactive mode by typing `exit()` or `quit()`\n",
    "\n",
    "*Pros & Cons*\n",
    "- type commands and get the results immediately\n",
    "- good if you want to execute only a few Python commands\n",
    "- bad if you have longer pieces of code or want to rerun code"
   ]
  },
  {
   "cell_type": "markdown",
   "id": "992358a3",
   "metadata": {
    "slideshow": {
     "slide_type": "slide"
    }
   },
   "source": [
    "### Option 3: Python scripts\n",
    "- save your code in a file with a `.py` extension\n",
    "- install Python and type `python <filename>.py` in the shell, you will see the output of the script in the shell"
   ]
  },
  {
   "cell_type": "markdown",
   "id": "53fdeb7d",
   "metadata": {
    "slideshow": {
     "slide_type": "notes"
    }
   },
   "source": [
    "*Pros & Cons*\n",
    "- good for large pieces of code \n",
    "- good if you want to rerun the code often\n",
    "- easy to make modular (organise code into seperate files)\n",
    "- good for integration into a pipeline or for running on a cluster\n",
    "- not interactive"
   ]
  },
  {
   "cell_type": "markdown",
   "id": "b9c7c030",
   "metadata": {
    "slideshow": {
     "slide_type": "skip"
    }
   },
   "source": [
    "### Caution!\n",
    "\n",
    "All options use the same syntax. \n",
    "However, while the interactive mode and Jupyter Notebook code cells will display the results of your short code snippet, Python scripts will not display anything unless you explicitly tell them to.\n",
    "\n",
    "Example: \n",
    "If you type `1+1` in the interactive mode or a Jupyter notebook, it will display the result: \n",
    "```\n",
    ">>> 1+1\n",
    "2\n",
    "```\n",
    "\n",
    "If you want a Python script to display the output of `1+1`, use the build-in function `print()` that outputs text.\n",
    "\n",
    "```\n",
    "File called basicMath.py :\n",
    "print(1+1)\n",
    "\n",
    "> python basicMath.py\n",
    "2\n",
    "```\n",
    "\n",
    "I will use print throughout this tutorial, so you can copy the code into a python script and get the same results."
   ]
  },
  {
   "cell_type": "code",
   "execution_count": 1,
   "id": "6f69232c",
   "metadata": {
    "slideshow": {
     "slide_type": "slide"
    }
   },
   "outputs": [
    {
     "data": {
      "text/plain": [
       "2"
      ]
     },
     "execution_count": 1,
     "metadata": {},
     "output_type": "execute_result"
    }
   ],
   "source": [
    "# 1+1, will directly display the result in a Jupyter notebook, but not in a Python script\n",
    "1+1"
   ]
  },
  {
   "cell_type": "markdown",
   "id": "7c150746",
   "metadata": {
    "slideshow": {
     "slide_type": "slide"
    }
   },
   "source": [
    "## Numbers"
   ]
  },
  {
   "cell_type": "markdown",
   "id": "8f508fd3",
   "metadata": {
    "slideshow": {
     "slide_type": "slide"
    }
   },
   "source": [
    "You can use Python as a calculator:"
   ]
  },
  {
   "cell_type": "code",
   "execution_count": 2,
   "id": "771dd436",
   "metadata": {
    "slideshow": {
     "slide_type": "fragment"
    }
   },
   "outputs": [
    {
     "name": "stdout",
     "output_type": "stream",
     "text": [
      "2\n"
     ]
    }
   ],
   "source": [
    "print(1 + 1)"
   ]
  },
  {
   "cell_type": "markdown",
   "id": "f9b48fdd",
   "metadata": {
    "slideshow": {
     "slide_type": "notes"
    }
   },
   "source": [
    "All standard arithmetic operators are supported (+ - * / ).  \n",
    "If you divide two numbers, Python always returns a floating point number. "
   ]
  },
  {
   "cell_type": "code",
   "execution_count": 3,
   "id": "dd10c812",
   "metadata": {
    "slideshow": {
     "slide_type": "fragment"
    }
   },
   "outputs": [
    {
     "name": "stdout",
     "output_type": "stream",
     "text": [
      "3.1415929203539825\n"
     ]
    }
   ],
   "source": [
    "print((420 - 5*13) / 113)"
   ]
  },
  {
   "cell_type": "markdown",
   "id": "189e7775",
   "metadata": {
    "slideshow": {
     "slide_type": "notes"
    }
   },
   "source": [
    "The is also an operation called modulo (%) which returns the remained of a division."
   ]
  },
  {
   "cell_type": "code",
   "execution_count": 4,
   "id": "97280cd9",
   "metadata": {
    "slideshow": {
     "slide_type": "fragment"
    }
   },
   "outputs": [
    {
     "name": "stdout",
     "output_type": "stream",
     "text": [
      "1\n"
     ]
    }
   ],
   "source": [
    "print(10%3)"
   ]
  },
  {
   "cell_type": "markdown",
   "id": "63d4edbf",
   "metadata": {
    "slideshow": {
     "slide_type": "notes"
    }
   },
   "source": [
    "You can also use floating point numbers:"
   ]
  },
  {
   "cell_type": "code",
   "execution_count": 5,
   "id": "472566f5",
   "metadata": {
    "slideshow": {
     "slide_type": "fragment"
    }
   },
   "outputs": [
    {
     "name": "stdout",
     "output_type": "stream",
     "text": [
      "0.2\n"
     ]
    }
   ],
   "source": [
    "print(0.1+0.1)"
   ]
  },
  {
   "cell_type": "markdown",
   "id": "c08828bc",
   "metadata": {
    "slideshow": {
     "slide_type": "slide"
    }
   },
   "source": [
    "### Caution!\n",
    "\n",
    "Floating point numbers do not always behave the way you would expect."
   ]
  },
  {
   "cell_type": "markdown",
   "id": "c81a8d8a",
   "metadata": {
    "slideshow": {
     "slide_type": "notes"
    }
   },
   "source": [
    "This is due how Python [stores floating point numbers](https://docs.python.org/3/tutorial/floatingpoint.html). \n",
    "The discrepancies are usually insignificant for day-to-day calculatons, just be aware that floating point  numbers may cause unexpected behaviour and consider looking into alternative methods of storing your numbers if you need very much precision."
   ]
  },
  {
   "cell_type": "code",
   "execution_count": 6,
   "id": "fb5be890",
   "metadata": {
    "slideshow": {
     "slide_type": "fragment"
    }
   },
   "outputs": [
    {
     "name": "stdout",
     "output_type": "stream",
     "text": [
      "0.30000000000000004\n"
     ]
    }
   ],
   "source": [
    "print(0.1+0.1+0.1)"
   ]
  },
  {
   "cell_type": "markdown",
   "id": "afb973ec",
   "metadata": {
    "slideshow": {
     "slide_type": "slide"
    }
   },
   "source": [
    "## Strings"
   ]
  },
  {
   "cell_type": "markdown",
   "id": "254f78b6",
   "metadata": {
    "slideshow": {
     "slide_type": "slide"
    }
   },
   "source": [
    "Strings store text.  \n",
    "They are enclosed in single quotes `''` or double quotes `\"\"` (there is no difference between them in Python)."
   ]
  },
  {
   "cell_type": "code",
   "execution_count": 7,
   "id": "f9a484d7",
   "metadata": {
    "slideshow": {
     "slide_type": "fragment"
    }
   },
   "outputs": [
    {
     "name": "stdout",
     "output_type": "stream",
     "text": [
      "You can use single quotes...\n",
      "... or double quotes.\n"
     ]
    }
   ],
   "source": [
    "print('You can use single quotes...')\n",
    "print(\"... or double quotes.\")"
   ]
  },
  {
   "cell_type": "markdown",
   "id": "285dd790",
   "metadata": {
    "slideshow": {
     "slide_type": "slide"
    }
   },
   "source": [
    "You can concatenate strings with `+` or print several strings with `print()`: "
   ]
  },
  {
   "cell_type": "code",
   "execution_count": 8,
   "id": "68c3eeba",
   "metadata": {
    "slideshow": {
     "slide_type": "fragment"
    }
   },
   "outputs": [
    {
     "name": "stdout",
     "output_type": "stream",
     "text": [
      "Hello World!\n",
      "Hello World!\n"
     ]
    }
   ],
   "source": [
    "print('Hello ' + 'World!') # you have to specify all spaces that you want \n",
    "print('Hello', 'World!') # print automatically seperates its arguments with a space"
   ]
  },
  {
   "cell_type": "markdown",
   "id": "c2bc6d53",
   "metadata": {
    "slideshow": {
     "slide_type": "slide"
    }
   },
   "source": [
    "## Comments\n",
    "\n",
    "Comments are used to explain Python code. The content is not executed.  \n",
    "You can write comments by using `#` or `\"\"\"` or `'''`:"
   ]
  },
  {
   "cell_type": "code",
   "execution_count": 9,
   "id": "8c8d3dcf",
   "metadata": {
    "slideshow": {
     "slide_type": "slide"
    }
   },
   "outputs": [
    {
     "name": "stdout",
     "output_type": "stream",
     "text": [
      "\"Hope\" is the thing with feathers -\n",
      "That perches in the soul -\n",
      "And sings the tune without the words -\n",
      "And never stops - at all -\n"
     ]
    }
   ],
   "source": [
    "# I am a single line comment.\n",
    "print('\"Hope\" is the thing with feathers -')\n",
    "\n",
    "# I am \n",
    "# a multiline comment.\n",
    "print(\"That perches in the soul -\")\n",
    "\n",
    "\"\"\"\n",
    "I am another \n",
    "multiline comment.\n",
    "\"\"\"\n",
    "print(\"And sings the tune without the words -\")\n",
    "\n",
    "'''\n",
    "I am yet another \n",
    "multiline comment.\n",
    "'''\n",
    "print(\"And never stops - at all -\")"
   ]
  },
  {
   "cell_type": "markdown",
   "id": "12933e37",
   "metadata": {
    "slideshow": {
     "slide_type": "notes"
    }
   },
   "source": [
    "Use comments to document what you did - they'll help you figure out what on earth you were thinking when you come back to your code a month later and try to modify it ;)  \n",
    "You can also use them to prevent a code section from being executed while debugging."
   ]
  },
  {
   "cell_type": "markdown",
   "id": "93f7fa1d",
   "metadata": {
    "slideshow": {
     "slide_type": "slide"
    }
   },
   "source": [
    "## Variables"
   ]
  },
  {
   "cell_type": "markdown",
   "id": "75b88164",
   "metadata": {
    "slideshow": {
     "slide_type": "notes"
    }
   },
   "source": [
    "A Python script is a set of instructions that are executed to achieve a specific task.  \n",
    "Even if you just wanted to do very long mathematical calculations, you might want to store your intermediate results instead of writing a single long line of code.  "
   ]
  },
  {
   "cell_type": "markdown",
   "id": "d327efac",
   "metadata": {
    "slideshow": {
     "slide_type": "slide"
    }
   },
   "source": [
    "To store things, you can use variables.  \\\n",
    "A variable is just a name attached to an object. \\\n",
    "You assign variables by using ="
   ]
  },
  {
   "cell_type": "code",
   "execution_count": 10,
   "id": "7970d6cc",
   "metadata": {
    "slideshow": {
     "slide_type": "fragment"
    }
   },
   "outputs": [
    {
     "name": "stdout",
     "output_type": "stream",
     "text": [
      "7\n",
      "2\n",
      "14\n"
     ]
    }
   ],
   "source": [
    "# a variable called width that stores the value 7\n",
    "width = 7\n",
    "# a variable called length that stores the result of the operation 1+1\n",
    "length = 1+1\n",
    "# a variable called area that stores the result of width*length\n",
    "area = width*length\n",
    "\n",
    "print(width)\n",
    "print(length)\n",
    "print(area)"
   ]
  },
  {
   "cell_type": "markdown",
   "id": "32951270",
   "metadata": {
    "slideshow": {
     "slide_type": "slide"
    }
   },
   "source": [
    "You can change what is stored in a variable:"
   ]
  },
  {
   "cell_type": "code",
   "execution_count": 11,
   "id": "098efc00",
   "metadata": {
    "slideshow": {
     "slide_type": "fragment"
    }
   },
   "outputs": [
    {
     "name": "stdout",
     "output_type": "stream",
     "text": [
      "7\n",
      "Hello World!\n"
     ]
    }
   ],
   "source": [
    "x = 7\n",
    "print(x)\n",
    "\n",
    "x = 'Hello World!'\n",
    "print(x)"
   ]
  },
  {
   "cell_type": "markdown",
   "id": "7868af8f",
   "metadata": {
    "slideshow": {
     "slide_type": "slide"
    }
   },
   "source": [
    "Variable names are case sensitive. \\\n",
    "They have to start with a letter. \\\n",
    "You should give them meaningful names even if that means more typing, otherwise you will not remember what they stand for if you come back to your code later"
   ]
  },
  {
   "cell_type": "code",
   "execution_count": 12,
   "id": "e438c63c",
   "metadata": {
    "slideshow": {
     "slide_type": "fragment"
    },
    "tags": [
     "raises-exception"
    ]
   },
   "outputs": [
    {
     "ename": "NameError",
     "evalue": "name 'first_Name' is not defined",
     "output_type": "error",
     "traceback": [
      "\u001b[0;31m---------------------------------------------------------------------------\u001b[0m",
      "\u001b[0;31mNameError\u001b[0m                                 Traceback (most recent call last)",
      "\u001b[0;32m/var/folders/25/7h37ljzs4pv67yd8sn3jcwqc0000gp/T/ipykernel_1964/2372633388.py\u001b[0m in \u001b[0;36m<module>\u001b[0;34m\u001b[0m\n\u001b[1;32m      1\u001b[0m \u001b[0mfirst_name\u001b[0m \u001b[0;34m=\u001b[0m \u001b[0;34m'Harry'\u001b[0m\u001b[0;34m\u001b[0m\u001b[0;34m\u001b[0m\u001b[0m\n\u001b[1;32m      2\u001b[0m \u001b[0;34m\u001b[0m\u001b[0m\n\u001b[0;32m----> 3\u001b[0;31m \u001b[0mprint\u001b[0m\u001b[0;34m(\u001b[0m\u001b[0mfirst_Name\u001b[0m\u001b[0;34m)\u001b[0m \u001b[0;31m# does not work, variable names are case sensitive\u001b[0m\u001b[0;34m\u001b[0m\u001b[0;34m\u001b[0m\u001b[0m\n\u001b[0m",
      "\u001b[0;31mNameError\u001b[0m: name 'first_Name' is not defined"
     ]
    }
   ],
   "source": [
    "first_name = 'Harry'\n",
    "\n",
    "print(first_Name) # does not work, variable names are case sensitive"
   ]
  },
  {
   "cell_type": "markdown",
   "id": "293160cd",
   "metadata": {
    "slideshow": {
     "slide_type": "slide"
    }
   },
   "source": [
    "## Types"
   ]
  },
  {
   "cell_type": "markdown",
   "id": "8592df07",
   "metadata": {
    "slideshow": {
     "slide_type": "notes"
    }
   },
   "source": [
    "A type classifies what values a variable can have and what operations can be applied to it.   \n",
    "In Python, a variable can store data of different types."
   ]
  },
  {
   "cell_type": "code",
   "execution_count": 13,
   "id": "85deee68",
   "metadata": {
    "slideshow": {
     "slide_type": "slide"
    }
   },
   "outputs": [
    {
     "name": "stdout",
     "output_type": "stream",
     "text": [
      "<class 'int'>\n"
     ]
    }
   ],
   "source": [
    "# int = integer\n",
    "year = 2021\n",
    "print(type(year)) "
   ]
  },
  {
   "cell_type": "code",
   "execution_count": 14,
   "id": "0f74f840",
   "metadata": {
    "slideshow": {
     "slide_type": "fragment"
    }
   },
   "outputs": [
    {
     "name": "stdout",
     "output_type": "stream",
     "text": [
      "<class 'float'>\n"
     ]
    }
   ],
   "source": [
    "# float = floating point number\n",
    "pi = 3.14\n",
    "print(type(pi))"
   ]
  },
  {
   "cell_type": "code",
   "execution_count": 15,
   "id": "0b045fa8",
   "metadata": {
    "slideshow": {
     "slide_type": "fragment"
    }
   },
   "outputs": [
    {
     "name": "stdout",
     "output_type": "stream",
     "text": [
      "<class 'str'>\n"
     ]
    }
   ],
   "source": [
    "# str = string\n",
    "name = 'Harry'\n",
    "print(type(name))"
   ]
  },
  {
   "cell_type": "markdown",
   "id": "b3fa79e6",
   "metadata": {
    "slideshow": {
     "slide_type": "slide"
    }
   },
   "source": [
    "True and False are keywords in Python, i.e., they have a special meaning (True / False) \\\n",
    "Variables cannot have the same name as a key word. \\\n",
    "i.e. you cannot have a variable called True. \\\n",
    "e.g., True = 7 is not allowed. \\"
   ]
  },
  {
   "cell_type": "code",
   "execution_count": 16,
   "id": "d367a3b4",
   "metadata": {
    "slideshow": {
     "slide_type": "fragment"
    }
   },
   "outputs": [
    {
     "name": "stdout",
     "output_type": "stream",
     "text": [
      "<class 'bool'>\n"
     ]
    }
   ],
   "source": [
    "# bool = Boolean, either True or False\n",
    "is_valid = True\n",
    "print(type(is_valid))"
   ]
  },
  {
   "cell_type": "markdown",
   "id": "a1c70e34",
   "metadata": {
    "slideshow": {
     "slide_type": "slide"
    }
   },
   "source": [
    "Depending on their type, variables can behave differently:"
   ]
  },
  {
   "cell_type": "code",
   "execution_count": 17,
   "id": "73ba7029",
   "metadata": {
    "slideshow": {
     "slide_type": "fragment"
    },
    "tags": [
     "raises-exception"
    ]
   },
   "outputs": [
    {
     "name": "stdout",
     "output_type": "stream",
     "text": [
      "2\n",
      "11\n"
     ]
    },
    {
     "ename": "TypeError",
     "evalue": "unsupported operand type(s) for +: 'int' and 'str'",
     "output_type": "error",
     "traceback": [
      "\u001b[0;31m---------------------------------------------------------------------------\u001b[0m",
      "\u001b[0;31mTypeError\u001b[0m                                 Traceback (most recent call last)",
      "\u001b[0;32m/var/folders/25/7h37ljzs4pv67yd8sn3jcwqc0000gp/T/ipykernel_1964/1364536097.py\u001b[0m in \u001b[0;36m<module>\u001b[0;34m\u001b[0m\n\u001b[1;32m      3\u001b[0m \u001b[0mprint\u001b[0m\u001b[0;34m(\u001b[0m\u001b[0mnumber_one\u001b[0m \u001b[0;34m+\u001b[0m \u001b[0mnumber_one\u001b[0m\u001b[0;34m)\u001b[0m \u001b[0;31m# + on integers computes the sum\u001b[0m\u001b[0;34m\u001b[0m\u001b[0;34m\u001b[0m\u001b[0m\n\u001b[1;32m      4\u001b[0m \u001b[0mprint\u001b[0m\u001b[0;34m(\u001b[0m\u001b[0mstring_one\u001b[0m \u001b[0;34m+\u001b[0m \u001b[0mstring_one\u001b[0m\u001b[0;34m)\u001b[0m \u001b[0;31m# + on strings concatenates the strings\u001b[0m\u001b[0;34m\u001b[0m\u001b[0;34m\u001b[0m\u001b[0m\n\u001b[0;32m----> 5\u001b[0;31m \u001b[0mprint\u001b[0m\u001b[0;34m(\u001b[0m\u001b[0mnumber_one\u001b[0m \u001b[0;34m+\u001b[0m \u001b[0mstring_one\u001b[0m\u001b[0;34m)\u001b[0m \u001b[0;31m# + for incompatible types raises an error\u001b[0m\u001b[0;34m\u001b[0m\u001b[0;34m\u001b[0m\u001b[0m\n\u001b[0m",
      "\u001b[0;31mTypeError\u001b[0m: unsupported operand type(s) for +: 'int' and 'str'"
     ]
    }
   ],
   "source": [
    "number_one = 1\n",
    "string_one = '1'\n",
    "print(number_one + number_one) # + on integers computes the sum\n",
    "print(string_one + string_one) # + on strings concatenates the strings\n",
    "print(number_one + string_one) # + for incompatible types raises an error"
   ]
  },
  {
   "cell_type": "markdown",
   "id": "5e59059f",
   "metadata": {
    "slideshow": {
     "slide_type": "slide"
    }
   },
   "source": [
    "Python does many conversions implicitly:"
   ]
  },
  {
   "cell_type": "code",
   "execution_count": 18,
   "id": "beb1f008",
   "metadata": {
    "slideshow": {
     "slide_type": "fragment"
    }
   },
   "outputs": [
    {
     "name": "stdout",
     "output_type": "stream",
     "text": [
      "2.2\n"
     ]
    }
   ],
   "source": [
    "# adding int and float converts int to float\n",
    "print(1 + 1.2) "
   ]
  },
  {
   "cell_type": "code",
   "execution_count": 19,
   "id": "6d2fedd6",
   "metadata": {
    "slideshow": {
     "slide_type": "fragment"
    }
   },
   "outputs": [
    {
     "name": "stdout",
     "output_type": "stream",
     "text": [
      "3\n",
      "0\n"
     ]
    }
   ],
   "source": [
    "# True and False are converted into 0 and 1 in numeric contexts\n",
    "print(3 * True)\n",
    "print(3 * False)"
   ]
  },
  {
   "cell_type": "markdown",
   "id": "ba05d5b3",
   "metadata": {
    "slideshow": {
     "slide_type": "slide"
    }
   },
   "source": [
    "You can explicitly convert types to avoid ambiguity:"
   ]
  },
  {
   "cell_type": "code",
   "execution_count": 20,
   "id": "0c755cf6",
   "metadata": {
    "slideshow": {
     "slide_type": "fragment"
    }
   },
   "outputs": [
    {
     "name": "stdout",
     "output_type": "stream",
     "text": [
      "2121\n",
      "42\n"
     ]
    }
   ],
   "source": [
    "answer = \"21\"\n",
    "print(answer*2) # the string \"21\" is repeated\n",
    "print(int(answer)*2) # answer is converted into an integer and multiplied by 2"
   ]
  },
  {
   "cell_type": "markdown",
   "id": "3f10ed0d",
   "metadata": {
    "slideshow": {
     "slide_type": "slide"
    }
   },
   "source": [
    "## Exercise: Greeting\n",
    "\n",
    "Define a variable called `first_name` and a variable called `year`. \\\n",
    "Set them to your name and to the PhD year you are in. Then print  \\\n",
    "`Hello, <first_name>! You are in year <year> of your PhD.` "
   ]
  },
  {
   "cell_type": "code",
   "execution_count": 21,
   "id": "d7f57b9f",
   "metadata": {
    "slideshow": {
     "slide_type": "fragment"
    }
   },
   "outputs": [],
   "source": [
    "# your code here\n"
   ]
  },
  {
   "cell_type": "markdown",
   "id": "fa0d5f98",
   "metadata": {
    "slideshow": {
     "slide_type": "slide"
    }
   },
   "source": [
    "## Functions"
   ]
  },
  {
   "cell_type": "markdown",
   "id": "48ab0f04",
   "metadata": {
    "slideshow": {
     "slide_type": "notes"
    }
   },
   "source": [
    "A function is a block of code which only runs when it is called.  \n",
    "You can pass data, known as parameters, into a function.   \n",
    "A function can return data as a result."
   ]
  },
  {
   "cell_type": "markdown",
   "id": "09239169",
   "metadata": {
    "slideshow": {
     "slide_type": "slide"
    }
   },
   "source": [
    "You define a function by following the pattern `def <function_name>(<parameterlist (optional)>)` \\\n",
    "Functions can be called several times with different arguments. \\\n",
    "If you want to return something, use the keyword return.\n",
    "The return statement is always the last thing that is called. "
   ]
  },
  {
   "cell_type": "code",
   "execution_count": 22,
   "id": "b5f3708a",
   "metadata": {
    "slideshow": {
     "slide_type": "fragment"
    }
   },
   "outputs": [
    {
     "name": "stdout",
     "output_type": "stream",
     "text": [
      "2\n",
      "3\n"
     ]
    }
   ],
   "source": [
    "def add(x, y):\n",
    "    return x + y\n",
    "    print(\"Everything below the return that is still in the same block will not be executed.\")\n",
    "\n",
    "print(add(1, 1))\n",
    "print(add(2, 1))"
   ]
  },
  {
   "cell_type": "markdown",
   "id": "28d4dc22",
   "metadata": {
    "slideshow": {
     "slide_type": "slide"
    }
   },
   "source": [
    "You can (and should!) document what your function does."
   ]
  },
  {
   "cell_type": "code",
   "execution_count": 23,
   "id": "c1010b75",
   "metadata": {
    "slideshow": {
     "slide_type": "fragment"
    }
   },
   "outputs": [
    {
     "name": "stdout",
     "output_type": "stream",
     "text": [
      "Help on function add in module __main__:\n",
      "\n",
      "add(x, y)\n",
      "    This text, inside the double quotes and below the def, is a docstring.\n",
      "    It will be displayed when you call help(add).\n",
      "    Use it to document what the function does.\n",
      "\n"
     ]
    }
   ],
   "source": [
    "def add(x, y):\n",
    "    \"\"\"\n",
    "    This text, inside the double quotes and below the def, is a docstring.\n",
    "    It will be displayed when you call help(add).\n",
    "    Use it to document what the function does.\n",
    "    \"\"\"\n",
    "    return x + y\n",
    "\n",
    "help(add)"
   ]
  },
  {
   "cell_type": "markdown",
   "id": "3910a3e8",
   "metadata": {
    "slideshow": {
     "slide_type": "slide"
    }
   },
   "source": [
    "You always have to call a function with the correct number of arguments. \\\n",
    "However, you can specify default parameters. \\\n",
    "These parameters are then optional when you call the function"
   ]
  },
  {
   "cell_type": "code",
   "execution_count": 24,
   "id": "e0c702ba",
   "metadata": {
    "slideshow": {
     "slide_type": "fragment"
    }
   },
   "outputs": [
    {
     "name": "stdout",
     "output_type": "stream",
     "text": [
      "2\n",
      "2\n"
     ]
    }
   ],
   "source": [
    "def add(x, y=1):\n",
    "    return x + y\n",
    "\n",
    "print(add(1, 1))\n",
    "print(add(1))"
   ]
  },
  {
   "cell_type": "markdown",
   "id": "ecdf5951",
   "metadata": {
    "slideshow": {
     "slide_type": "slide"
    }
   },
   "source": [
    "### Semantic indentation"
   ]
  },
  {
   "cell_type": "markdown",
   "id": "e67d3618",
   "metadata": {
    "slideshow": {
     "slide_type": "notes"
    }
   },
   "source": [
    "Python uses whitespace to delimit control flow such as if / elif / else. \\\n",
    "Usually, people choose 2 or 4 whitespaces for an indentation. You can choose whichever you prefer, but be consistent! \\\n",
    "Indentation is mandatory for control flow. If you don't use the proper indentation, Python will complain."
   ]
  },
  {
   "cell_type": "code",
   "execution_count": 25,
   "id": "41db7a6f",
   "metadata": {
    "slideshow": {
     "slide_type": "fragment"
    }
   },
   "outputs": [
    {
     "name": "stdout",
     "output_type": "stream",
     "text": [
      "This text will always be printed.\n"
     ]
    }
   ],
   "source": [
    "a = 5\n",
    "b = 6\n",
    "if a == b:\n",
    "    print(\"a is equal to b.\")\n",
    "print(\"This text will always be printed.\")"
   ]
  },
  {
   "cell_type": "code",
   "execution_count": 26,
   "id": "b7379201",
   "metadata": {
    "slideshow": {
     "slide_type": "fragment"
    },
    "tags": [
     "raises-exception"
    ]
   },
   "outputs": [
    {
     "ename": "IndentationError",
     "evalue": "expected an indented block (2837942599.py, line 4)",
     "output_type": "error",
     "traceback": [
      "\u001b[0;36m  File \u001b[0;32m\"/var/folders/25/7h37ljzs4pv67yd8sn3jcwqc0000gp/T/ipykernel_1964/2837942599.py\"\u001b[0;36m, line \u001b[0;32m4\u001b[0m\n\u001b[0;31m    print(\"a is less than b.\")\u001b[0m\n\u001b[0m    ^\u001b[0m\n\u001b[0;31mIndentationError\u001b[0m\u001b[0;31m:\u001b[0m expected an indented block\n"
     ]
    }
   ],
   "source": [
    "a = 5\n",
    "b = 6\n",
    "if a < b: # Python expects an indeted block after the colon of the if statement\n",
    "print(\"a is less than b.\")"
   ]
  },
  {
   "cell_type": "markdown",
   "id": "6cb3fe6d",
   "metadata": {
    "slideshow": {
     "slide_type": "slide"
    }
   },
   "source": [
    "## Logic"
   ]
  },
  {
   "cell_type": "markdown",
   "id": "7ab295e7",
   "metadata": {
    "slideshow": {
     "slide_type": "slide"
    }
   },
   "source": [
    "### Comparison Operators\n",
    "\n",
    "Comparison operators compare two things.   \n",
    "The result is a boolean value, i.e. either True or False."
   ]
  },
  {
   "cell_type": "code",
   "execution_count": 27,
   "id": "e6b21e51",
   "metadata": {
    "slideshow": {
     "slide_type": "fragment"
    }
   },
   "outputs": [
    {
     "name": "stdout",
     "output_type": "stream",
     "text": [
      "a is equal to b: False\n",
      "a is not equal to b: True\n",
      "a is less than b: True\n",
      "a is less than or equal to b: True\n",
      "a is greater than b: False\n",
      "a is greater than or equal to b: False\n"
     ]
    }
   ],
   "source": [
    "a = 3\n",
    "b = 7\n",
    "print(\"a is equal to b:\", a == b)\n",
    "print(\"a is not equal to b:\", a != b)\n",
    "print(\"a is less than b:\", a < b)\n",
    "print(\"a is less than or equal to b:\", a <= b)\n",
    "print(\"a is greater than b:\", a > b)\n",
    "print(\"a is greater than or equal to b:\", a >= b)"
   ]
  },
  {
   "cell_type": "code",
   "execution_count": 28,
   "id": "8987d7f3",
   "metadata": {
    "slideshow": {
     "slide_type": "fragment"
    }
   },
   "outputs": [
    {
     "name": "stdout",
     "output_type": "stream",
     "text": [
      "False\n"
     ]
    }
   ],
   "source": [
    "# remember that there may be unintended consequences when using floating point numbers:\n",
    "print(0.1+0.1+0.1 == 0.3)"
   ]
  },
  {
   "cell_type": "markdown",
   "id": "3dd47e33",
   "metadata": {
    "slideshow": {
     "slide_type": "slide"
    }
   },
   "source": [
    "### Logical Operators\n",
    "\n",
    "There are three logical operators: `not`, `and`, `or`.   \\\n",
    "They can be used to modify and join expressions to create more complex conditions."
   ]
  },
  {
   "cell_type": "code",
   "execution_count": 29,
   "id": "d35da300",
   "metadata": {
    "slideshow": {
     "slide_type": "fragment"
    }
   },
   "outputs": [
    {
     "name": "stdout",
     "output_type": "stream",
     "text": [
      "a is not less than b: False\n",
      "a is less than b AND b is greater than c: False\n",
      "a is less than b OR b is greater than c: True\n"
     ]
    }
   ],
   "source": [
    "a = 1\n",
    "b = 2\n",
    "c = 3\n",
    "# not inverts the boolean value\n",
    "print(\"a is not less than b:\", not (a < b)) \n",
    "# when combining two conditions with and, both have to be true\n",
    "print(\"a is less than b AND b is greater than c:\", (a < b) and (b > c))\n",
    "# when combining two conditions with or, at least one of them (or both) have to be true\n",
    "print(\"a is less than b OR b is greater than c:\", (a < b) or (b > c))"
   ]
  },
  {
   "cell_type": "markdown",
   "id": "96b26f6f",
   "metadata": {
    "slideshow": {
     "slide_type": "slide"
    }
   },
   "source": [
    "### if / elif / else\n",
    "\n",
    "You can use `if`, `elif` and `else` to influence which part of your code will be executed. "
   ]
  },
  {
   "cell_type": "markdown",
   "id": "9c96413c",
   "metadata": {
    "slideshow": {
     "slide_type": "notes"
    }
   },
   "source": [
    "Which parts of your code will be executed will depend on whether a condition is True or False. \\\n",
    "You can omit `elif` or `else`, but you cannot use `elif` or `else` without an `if`.  You can also use several `elif` if needed."
   ]
  },
  {
   "cell_type": "code",
   "execution_count": 30,
   "id": "3c389fcd",
   "metadata": {
    "slideshow": {
     "slide_type": "fragment"
    }
   },
   "outputs": [
    {
     "name": "stdout",
     "output_type": "stream",
     "text": [
      "b is less than a.\n"
     ]
    }
   ],
   "source": [
    "a = 5\n",
    "b = 4\n",
    "if a < b: # if <condition> is True\n",
    "    print(\"a is less than b.\")\n",
    "elif b < a: # if previous condition is False but <other condition> is True\n",
    "    print(\"b is less than a.\")\n",
    "else: # otherwise\n",
    "    print(\"a is equal to b.\")"
   ]
  },
  {
   "cell_type": "markdown",
   "id": "1a6f82bc",
   "metadata": {
    "slideshow": {
     "slide_type": "slide"
    }
   },
   "source": [
    "## Exercise: Minimum\n",
    "\n",
    "Write a function that returns the minimum of three given integers.  \\\n",
    "Test with a few examples that your function returns the expected results. \\\n",
    "What happens if you pass a float or string to your function? "
   ]
  },
  {
   "cell_type": "code",
   "execution_count": 31,
   "id": "784de1de",
   "metadata": {
    "slideshow": {
     "slide_type": "fragment"
    }
   },
   "outputs": [],
   "source": [
    "# your code here\n"
   ]
  },
  {
   "cell_type": "markdown",
   "id": "e1cfdb20",
   "metadata": {
    "slideshow": {
     "slide_type": "slide"
    }
   },
   "source": [
    "## Repeating code"
   ]
  },
  {
   "cell_type": "markdown",
   "id": "2feee877",
   "metadata": {
    "slideshow": {
     "slide_type": "slide"
    }
   },
   "source": [
    "### The while loop\n",
    "\n",
    "The while loop repeatedly runs a code block until a condition is met."
   ]
  },
  {
   "cell_type": "code",
   "execution_count": 32,
   "id": "32b44c97",
   "metadata": {
    "slideshow": {
     "slide_type": "fragment"
    }
   },
   "outputs": [
    {
     "name": "stdout",
     "output_type": "stream",
     "text": [
      "0\n",
      "1\n",
      "2\n"
     ]
    }
   ],
   "source": [
    "n = 0\n",
    "\n",
    "while n < 3:\n",
    "    print(n)\n",
    "    n = n + 1"
   ]
  },
  {
   "cell_type": "markdown",
   "id": "925ac93d",
   "metadata": {
    "slideshow": {
     "slide_type": "slide"
    }
   },
   "source": [
    "### The for loop\n",
    "\n",
    "The for loop repeatedly runs your code for all items of a sequence. "
   ]
  },
  {
   "cell_type": "markdown",
   "id": "7a208070",
   "metadata": {
    "slideshow": {
     "slide_type": "fragment"
    }
   },
   "source": [
    "The build-in range function returns a sequence of integers."
   ]
  },
  {
   "cell_type": "code",
   "execution_count": 33,
   "id": "bae9614f",
   "metadata": {
    "slideshow": {
     "slide_type": "fragment"
    }
   },
   "outputs": [
    {
     "name": "stdout",
     "output_type": "stream",
     "text": [
      "0\n",
      "1\n",
      "2\n"
     ]
    }
   ],
   "source": [
    "for i in range(3):\n",
    "    print(i)"
   ]
  },
  {
   "cell_type": "markdown",
   "id": "3ffa9bda",
   "metadata": {
    "slideshow": {
     "slide_type": "slide"
    }
   },
   "source": [
    "You can customise the sequence of integers that the range function returns."
   ]
  },
  {
   "cell_type": "code",
   "execution_count": 34,
   "id": "46a0171f",
   "metadata": {
    "slideshow": {
     "slide_type": "fragment"
    }
   },
   "outputs": [
    {
     "name": "stdout",
     "output_type": "stream",
     "text": [
      "2\n",
      "4\n",
      "6\n",
      "8\n"
     ]
    }
   ],
   "source": [
    "start = 2 # first number, inclusive, default: 0\n",
    "stop = 10 # last number, exclusive, has to be specified\n",
    "step = 2 # space between numbers, default: 1\n",
    "\n",
    "for i in range(start, stop, step):\n",
    "    print(i)"
   ]
  },
  {
   "cell_type": "markdown",
   "id": "51b83153",
   "metadata": {
    "slideshow": {
     "slide_type": "slide"
    }
   },
   "source": [
    "## Collections of Data\n",
    "\n",
    "There are several built-in composite data types that can store multiple items in a single variable."
   ]
  },
  {
   "cell_type": "markdown",
   "id": "8aba3497",
   "metadata": {
    "slideshow": {
     "slide_type": "slide"
    }
   },
   "source": [
    "### Lists\n",
    "\n",
    "Lists are an ordered collections of objects."
   ]
  },
  {
   "cell_type": "markdown",
   "id": "fd898477",
   "metadata": {
    "slideshow": {
     "slide_type": "fragment"
    }
   },
   "source": [
    "You define a list by enclosing a comma-seperated sequence of objects in square brackets. \\\n",
    "The elements in a list don't have to have the same type and can also be lists."
   ]
  },
  {
   "cell_type": "code",
   "execution_count": 35,
   "id": "ad1f47f7",
   "metadata": {
    "slideshow": {
     "slide_type": "fragment"
    }
   },
   "outputs": [],
   "source": [
    "fruits = [\"apples\", \"bananas\", \"oranges\"]\n",
    "random_elements = ['foo', 4, 7, -3.5, [1, 2, 3]]"
   ]
  },
  {
   "cell_type": "markdown",
   "id": "794f94fc",
   "metadata": {
    "slideshow": {
     "slide_type": "slide"
    }
   },
   "source": [
    "You can access elements at a specific index of the list. \\\n",
    "The first index is 0. \\\n",
    "You will get an error if you try to access elements at an index >= the length of the list. \\\n",
    "Negative indices will count from the end of the list, starting by -1. "
   ]
  },
  {
   "cell_type": "code",
   "execution_count": 36,
   "id": "8cd892a6",
   "metadata": {
    "slideshow": {
     "slide_type": "fragment"
    }
   },
   "outputs": [
    {
     "name": "stdout",
     "output_type": "stream",
     "text": [
      "The element at index 0 is 0\n"
     ]
    }
   ],
   "source": [
    "numbers = [0, 1, 2, 3, 4, 5]\n",
    "\n",
    "idx = 0\n",
    "element_at_idx = numbers[idx]\n",
    "print(\"The element at index\",  idx, \"is\", element_at_idx)"
   ]
  },
  {
   "cell_type": "markdown",
   "id": "9e18640d",
   "metadata": {
    "slideshow": {
     "slide_type": "slide"
    }
   },
   "source": [
    "You can change elements of a list."
   ]
  },
  {
   "cell_type": "code",
   "execution_count": 37,
   "id": "8f1dcb8f",
   "metadata": {
    "slideshow": {
     "slide_type": "fragment"
    }
   },
   "outputs": [
    {
     "name": "stdout",
     "output_type": "stream",
     "text": [
      "[0, 1, 42, 3, 4, 5]\n"
     ]
    }
   ],
   "source": [
    "numbers = [0, 1, 2, 3, 4, 5]\n",
    "\n",
    "idx = 2\n",
    "numbers[idx] = 42\n",
    "print(numbers)"
   ]
  },
  {
   "cell_type": "markdown",
   "id": "50d66c10",
   "metadata": {
    "slideshow": {
     "slide_type": "slide"
    }
   },
   "source": [
    "By using \\<list_name\\>\\[m:n\\] you can slice the list. \\\n",
    "A portion from index m to, but not including, index n will be returned."
   ]
  },
  {
   "cell_type": "code",
   "execution_count": 38,
   "id": "8e62313c",
   "metadata": {
    "slideshow": {
     "slide_type": "fragment"
    }
   },
   "outputs": [
    {
     "name": "stdout",
     "output_type": "stream",
     "text": [
      "[0, 1, 2, 3]\n",
      "[2, 3, 4, 5]\n",
      "[2, 3]\n"
     ]
    }
   ],
   "source": [
    "numbers = [0, 1, 2, 3, 4, 5]\n",
    "\n",
    "beginning = 2\n",
    "end = 4\n",
    "section_1 = numbers[:end]\n",
    "section_2 = numbers[beginning:]\n",
    "section_3 = numbers[beginning:end]\n",
    "\n",
    "print(section_1)\n",
    "print(section_2)\n",
    "print(section_3)"
   ]
  },
  {
   "cell_type": "markdown",
   "id": "65c5760b",
   "metadata": {
    "slideshow": {
     "slide_type": "slide"
    }
   },
   "source": [
    "There are several [built-in methods](https://docs.python.org/3/tutorial/datastructures.html#more-on-lists) that can be used to modify lists."
   ]
  },
  {
   "cell_type": "code",
   "execution_count": 39,
   "id": "ea3b2dde",
   "metadata": {
    "slideshow": {
     "slide_type": "fragment"
    }
   },
   "outputs": [
    {
     "name": "stdout",
     "output_type": "stream",
     "text": [
      "[7, 3, 4, 1, 2, 0, 6]\n",
      "[6, 0, 2, 1, 4, 3, 7]\n",
      "[0, 1, 2, 3, 4, 6, 7]\n"
     ]
    }
   ],
   "source": [
    "numbers = [7, 3, 4, 1, 2, 0]\n",
    "\n",
    "# appending\n",
    "numbers.append(6)\n",
    "print(numbers)\n",
    "\n",
    "# reversing\n",
    "numbers.reverse()\n",
    "print(numbers)\n",
    "\n",
    "# sorting\n",
    "numbers.sort()\n",
    "print(numbers)"
   ]
  },
  {
   "cell_type": "markdown",
   "id": "0b551cc9",
   "metadata": {
    "slideshow": {
     "slide_type": "slide"
    }
   },
   "source": [
    "You can easily iterate over elements in a list."
   ]
  },
  {
   "cell_type": "code",
   "execution_count": 40,
   "id": "f0539d09",
   "metadata": {
    "slideshow": {
     "slide_type": "fragment"
    }
   },
   "outputs": [
    {
     "name": "stdout",
     "output_type": "stream",
     "text": [
      "apples\n",
      "bananas\n",
      "oranges\n"
     ]
    }
   ],
   "source": [
    "fruits = [\"apples\", \"bananas\", \"oranges\"]\n",
    "\n",
    "for w in fruits:\n",
    "     print(w)"
   ]
  },
  {
   "cell_type": "markdown",
   "id": "e527bbbb",
   "metadata": {
    "slideshow": {
     "slide_type": "slide"
    }
   },
   "source": [
    "### List comprehension\n",
    "\n",
    "List comprehension is a nice feature of python that simplifies the creation of lists. \\\n",
    "A list comprehension always follows the pattern `[<expression> for <more for or if clauses>]`."
   ]
  },
  {
   "cell_type": "code",
   "execution_count": 41,
   "id": "d1e260d1",
   "metadata": {
    "slideshow": {
     "slide_type": "fragment"
    }
   },
   "outputs": [
    {
     "name": "stdout",
     "output_type": "stream",
     "text": [
      "['apple', 'banana', 'mango']\n",
      "['Even', 'Odd', 'Even', 'Odd', 'Even', 'Odd', 'Even', 'Odd', 'Even', 'Odd', 'Even']\n"
     ]
    }
   ],
   "source": [
    "# all fruits that contain the letter \"a\"\n",
    "fruits = [\"apple\", \"banana\", \"cherry\", \"kiwi\", \"mango\"]\n",
    "fruits_with_a = [x for x in fruits if \"a\" in x]\n",
    "print(fruits_with_a)\n",
    "\n",
    "# list with Even or Odd for numbers up to 10 \n",
    "even = [\"Even\" if i%2==0 else \"Odd\" for i in range(11)]\n",
    "print(even)"
   ]
  },
  {
   "cell_type": "markdown",
   "id": "6f7b380f",
   "metadata": {
    "slideshow": {
     "slide_type": "slide"
    }
   },
   "source": [
    "## Exercise: List of even numbers\n",
    "\n",
    "Write a function that returns a list of all even numbers from 0 upto and (potentially) including a given integer n. \\\n",
    "Test with a few examples that your function returns the expected results. \\\n",
    "Hint: the modulo operator (%) returns the remainder of a division. \\\n",
    "Try to get the results by using a loop or list comprehension. "
   ]
  },
  {
   "cell_type": "code",
   "execution_count": 42,
   "id": "2cffcd77",
   "metadata": {
    "slideshow": {
     "slide_type": "fragment"
    }
   },
   "outputs": [],
   "source": [
    "# your code here \n"
   ]
  },
  {
   "cell_type": "markdown",
   "id": "ff67da90",
   "metadata": {
    "slideshow": {
     "slide_type": "slide"
    }
   },
   "source": [
    "### Dictionaries\n",
    "\n",
    "Dictionaries consist of a collection of key-value paris. Each pair maps the key to its associated value. The keys have to be unique."
   ]
  },
  {
   "cell_type": "markdown",
   "id": "9c111433",
   "metadata": {
    "slideshow": {
     "slide_type": "slide"
    }
   },
   "source": [
    "You can define a dictionary \n",
    "- by enclosing a comma-separated list of key-value pairs in curly braces or \n",
    "- by using the keyword dict"
   ]
  },
  {
   "cell_type": "code",
   "execution_count": 43,
   "id": "4fe36c62",
   "metadata": {
    "slideshow": {
     "slide_type": "fragment"
    }
   },
   "outputs": [
    {
     "name": "stdout",
     "output_type": "stream",
     "text": [
      "{'otter': 9, 'cheetah': 54, 'seal': 85}\n",
      "{'otter': 16, 'cheetah': 10, 'seal': 30}\n"
     ]
    }
   ],
   "source": [
    "weights = {\n",
    "    \"otter\" : 9, \n",
    "    \"cheetah\": 54,\n",
    "    \"seal\": 85\n",
    "}\n",
    "\n",
    "ages = dict([\n",
    "    (\"otter\", 16), \n",
    "    (\"cheetah\", 10),\n",
    "    (\"seal\", 30)\n",
    "])\n",
    "\n",
    "\n",
    "print(weights)\n",
    "print(ages)"
   ]
  },
  {
   "cell_type": "markdown",
   "id": "88140d2e",
   "metadata": {
    "slideshow": {
     "slide_type": "slide"
    }
   },
   "source": [
    "You can access dictionary values by using the unique keys. "
   ]
  },
  {
   "cell_type": "code",
   "execution_count": 44,
   "id": "4bfd2cbc",
   "metadata": {
    "slideshow": {
     "slide_type": "fragment"
    }
   },
   "outputs": [
    {
     "name": "stdout",
     "output_type": "stream",
     "text": [
      "animal_weight: 9\n",
      "{'otter': 10, 'cheetah': 54, 'seal': 85, 'deer': 95}\n"
     ]
    }
   ],
   "source": [
    "weights = {\n",
    "    \"otter\" : 9, \n",
    "    \"cheetah\": 54,\n",
    "    \"seal\": 85\n",
    "}\n",
    "\n",
    "animal_weight = weights[\"otter\"]\n",
    "print(\"animal_weight:\", animal_weight)\n",
    "\n",
    "# this can also be used to extend or change the dictionary\n",
    "weights[\"deer\"] = 95\n",
    "weights[\"otter\"] = 10\n",
    "print(weights)"
   ]
  },
  {
   "cell_type": "markdown",
   "id": "67dc576a",
   "metadata": {
    "slideshow": {
     "slide_type": "notes"
    }
   },
   "source": [
    "As for lists, there are [built-in methods](https://docs.python.org/3/library/stdtypes.html#mapping-types-dict) for dictionaries. \n",
    "Particularly helpful are `<dictname>.items()`, `<dictname>.keys()` and `<dictname>.values()` for iterating through a dictionary."
   ]
  },
  {
   "cell_type": "markdown",
   "id": "b743147b",
   "metadata": {
    "slideshow": {
     "slide_type": "slide"
    }
   },
   "source": [
    "### len()\n",
    "\n",
    "`len()` is a built in function that returns the length (number of items) of an object."
   ]
  },
  {
   "cell_type": "code",
   "execution_count": 45,
   "id": "f9ed1b57",
   "metadata": {
    "slideshow": {
     "slide_type": "fragment"
    }
   },
   "outputs": [
    {
     "name": "stdout",
     "output_type": "stream",
     "text": [
      "length of numbers: 6\n",
      "length of weights: 3\n",
      "length of name: 5\n"
     ]
    }
   ],
   "source": [
    "numbers = [0, 1, 2, 3, 4, 5]\n",
    "weights = {\n",
    "    \"otter\" : 9, \n",
    "    \"cheetah\": 54,\n",
    "    \"seal\": 85\n",
    "}\n",
    "name = 'Harry'\n",
    "\n",
    "print(\"length of numbers:\", len(numbers))\n",
    "print(\"length of weights:\", len(weights))\n",
    "print(\"length of name:\", len(name))"
   ]
  },
  {
   "cell_type": "markdown",
   "id": "d5f5f8df",
   "metadata": {
    "slideshow": {
     "slide_type": "slide"
    }
   },
   "source": [
    "## Foreign Code: Modules and Packages"
   ]
  },
  {
   "cell_type": "markdown",
   "id": "d446fb0d",
   "metadata": {
    "slideshow": {
     "slide_type": "notes"
    }
   },
   "source": [
    "The great thing about Python is, that there already is code to solve quite a few problems.  \n",
    "A **module** in Python is a simple Python file with a .py extension.  \n",
    "A **package** is a collection of modules.  \n",
    "When modules or packages are \"published\" they are often referred to as a **library**.  \\\n",
    "You can import foreign code and use is in your own projects!\\\n",
    "You can also use modules to organise your code into smaller parts and import your own modules.  \n",
    "It is a convention to import all modules and packages at the top of your script."
   ]
  },
  {
   "cell_type": "markdown",
   "id": "19a9037d",
   "metadata": {
    "slideshow": {
     "slide_type": "slide"
    }
   },
   "source": [
    "### Importing modules"
   ]
  },
  {
   "cell_type": "markdown",
   "id": "9be5c046",
   "metadata": {
    "slideshow": {
     "slide_type": "slide"
    }
   },
   "source": [
    "You can import an entire module and then use functions of the module by using the dot notation:"
   ]
  },
  {
   "cell_type": "code",
   "execution_count": 46,
   "id": "9160c67b",
   "metadata": {
    "slideshow": {
     "slide_type": "fragment"
    }
   },
   "outputs": [
    {
     "name": "stdout",
     "output_type": "stream",
     "text": [
      "2.0\n"
     ]
    }
   ],
   "source": [
    "import math\n",
    "\n",
    "root = math.sqrt(4)\n",
    "\n",
    "print(root)"
   ]
  },
  {
   "cell_type": "markdown",
   "id": "942df8e5",
   "metadata": {
    "slideshow": {
     "slide_type": "slide"
    }
   },
   "source": [
    "You can import specific functions of a module. \\\n",
    "If you import specific functions, you don't need to specific which module they are from."
   ]
  },
  {
   "cell_type": "code",
   "execution_count": 47,
   "id": "d412ab1c",
   "metadata": {
    "slideshow": {
     "slide_type": "fragment"
    }
   },
   "outputs": [
    {
     "name": "stdout",
     "output_type": "stream",
     "text": [
      "2.0\n"
     ]
    }
   ],
   "source": [
    "from math import sqrt\n",
    "\n",
    "root = sqrt(4)\n",
    "\n",
    "print(root)"
   ]
  },
  {
   "cell_type": "markdown",
   "id": "83db52bc",
   "metadata": {
    "slideshow": {
     "slide_type": "slide"
    }
   },
   "source": [
    "You can give those modules or functions a name."
   ]
  },
  {
   "cell_type": "code",
   "execution_count": 48,
   "id": "8b865999",
   "metadata": {
    "slideshow": {
     "slide_type": "fragment"
    }
   },
   "outputs": [
    {
     "name": "stdout",
     "output_type": "stream",
     "text": [
      "2.0\n",
      "2.0\n"
     ]
    }
   ],
   "source": [
    "import math as mathematics\n",
    "from math import sqrt as squareroot\n",
    "\n",
    "math_root = mathematics.sqrt(4)\n",
    "root = squareroot(4)\n",
    "\n",
    "print(math_root)\n",
    "print(root)"
   ]
  },
  {
   "cell_type": "markdown",
   "id": "266a745f",
   "metadata": {
    "slideshow": {
     "slide_type": "slide"
    }
   },
   "source": [
    "### Importing Packages"
   ]
  },
  {
   "cell_type": "markdown",
   "id": "c08219b3",
   "metadata": {
    "slideshow": {
     "slide_type": "slide"
    }
   },
   "source": [
    "To import modules of packages you can use a similar dot notation to before: `import package.module`"
   ]
  },
  {
   "cell_type": "code",
   "execution_count": 49,
   "id": "8b6a2f9f",
   "metadata": {
    "slideshow": {
     "slide_type": "fragment"
    }
   },
   "outputs": [
    {
     "name": "stdout",
     "output_type": "stream",
     "text": [
      "Your number is less than LARGEST.\n"
     ]
    }
   ],
   "source": [
    "import test.support as sup # module called support in the package test\n",
    "\n",
    "number = 1000000\n",
    "if number < sup.LARGEST:\n",
    "    print(\"Your number is less than LARGEST.\")"
   ]
  },
  {
   "cell_type": "markdown",
   "id": "9c3dd824",
   "metadata": {
    "slideshow": {
     "slide_type": "slide"
    }
   },
   "source": [
    "### Libraries\n",
    "\n",
    "Here are some libraries that you might find useful for your work:"
   ]
  },
  {
   "cell_type": "markdown",
   "id": "96070726",
   "metadata": {
    "slideshow": {
     "slide_type": "slide"
    }
   },
   "source": [
    "**Visualisations**\n",
    "- [Matplotlib](https://matplotlib.org/) : plots and visualisations\n",
    "\n",
    "**Data Science**\n",
    "- [Pandas](https://pandas.pydata.org/) : data analysis, often used in data science\n",
    "\n",
    "**Scientific Computing**\n",
    "- [Numpy](https://numpy.org/) : sientific computing, focus on calculations with arrays and matrices\n",
    "- [SciPy](https://docs.scipy.org/doc/scipy/reference/) : numerical computing, works well with numpy "
   ]
  },
  {
   "cell_type": "markdown",
   "id": "b351a5c5",
   "metadata": {
    "slideshow": {
     "slide_type": "slide"
    }
   },
   "source": [
    "\n",
    "**Machine Learning & AI** \\\n",
    "There are quite a few machine learning and neural network libraries. You can find the most popular below. It might be easiest to start by exploring one library (depending on whether you want machine learning or neural networks).\n",
    "\n",
    "- [scikit-learn](https://scikit-learn.org/stable/) : general machine learning, no neural networks\n",
    "- [TensorFlow](https://www.tensorflow.org/) : machine learning, neural networks\n",
    "- [PyTorch](https://pytorch.org/) : machine learning, neural networks\n",
    "- [Keras](https://keras.io/) : neural networks, deep learning\n",
    "\n",
    "**Computational Biology, Bioinformatics**\n",
    "- [BioPython](https://biopython.org/) : working with sequences"
   ]
  },
  {
   "cell_type": "markdown",
   "id": "c11c3382",
   "metadata": {
    "slideshow": {
     "slide_type": "notes"
    }
   },
   "source": [
    "### Installing Libraries, Managing Dependencies\n",
    "\n",
    "In order to be able to import libraries, you have to install them.\n",
    "You might need different versions of libraries for different projects. I highly recommend looking into a package manager like [Conda](https://docs.conda.io/en/latest/). Unfortunately, we don't have time to cover package management today.\n"
   ]
  },
  {
   "cell_type": "markdown",
   "id": "1b2421b9",
   "metadata": {
    "slideshow": {
     "slide_type": "slide"
    }
   },
   "source": [
    "## Tips and Pitfalls"
   ]
  },
  {
   "cell_type": "markdown",
   "id": "7bbd0c22",
   "metadata": {
    "slideshow": {
     "slide_type": "slide"
    }
   },
   "source": [
    "### Help Your Future Self\n",
    "- give meaningful names to your variables\n",
    "- write comments, document your code\n",
    "- keep imports at the beginning of your code"
   ]
  },
  {
   "cell_type": "markdown",
   "id": "ff688b54",
   "metadata": {
    "slideshow": {
     "slide_type": "slide"
    }
   },
   "source": [
    "### Do not reinvent the wheel\n",
    "- use libraries \n",
    "- use Google to find a solution if you're stuck; chances are somebody already had that problem"
   ]
  },
  {
   "cell_type": "markdown",
   "id": "6100a5db",
   "metadata": {
    "slideshow": {
     "slide_type": "slide"
    }
   },
   "source": [
    "### Use an IDE\n",
    "\n",
    "IDEs (Integrated Development Environments) make writing Python code a lot easier. \n",
    "They can highlight code in a way that makes it more readable, autocomplete words, detect stylistic errors, provide tools for executing and debugging your code, etc.  \n",
    "One of the most popular IDEs for Python is [PyCharm](https://www.jetbrains.com/pycharm/). There is a free community edition and a professional edition. The community edition is sufficient for most tasks, but you can get the professional edition for [free](https://www.jetbrains.com/community/education/#students) as a student. "
   ]
  },
  {
   "cell_type": "markdown",
   "id": "cd891a3d",
   "metadata": {
    "slideshow": {
     "slide_type": "slide"
    }
   },
   "source": [
    "### Python 2 vs. Python 3\n",
    "\n",
    "Today, most code is written in Python 3.x. However, there is an older version of Python: Python 2. Python is not backwards compatible! Your Python 3.x code will not work when using Python 2.x. "
   ]
  },
  {
   "cell_type": "markdown",
   "id": "dfbb71c2",
   "metadata": {
    "slideshow": {
     "slide_type": "slide"
    }
   },
   "source": [
    "### When not to use Python\n",
    "\n",
    "Python is a great multi-purpose language. However, there are applications for which Python might not be the best choice:  \n",
    "- if you need something really fast\n",
    "- if you need memory efficiency"
   ]
  },
  {
   "cell_type": "markdown",
   "id": "55ceb775",
   "metadata": {
    "slideshow": {
     "slide_type": "slide"
    }
   },
   "source": [
    "## Want more?\n",
    "\n",
    "- Hillary's advanced Python session on Thursday\n",
    "- [Python For Beginners](https://www.python.org/about/gettingstarted/): a collection of resources\n",
    "- look for free online courses, e.g. [Snakify](https://snakify.org/en/) or the official [Python tutorial](https://docs.python.org/3/tutorial/)"
   ]
  },
  {
   "cell_type": "markdown",
   "id": "d5fc690a",
   "metadata": {
    "slideshow": {
     "slide_type": "slide"
    }
   },
   "source": [
    "# Have fun with Python!"
   ]
  }
 ],
 "metadata": {
  "celltoolbar": "Slideshow",
  "kernelspec": {
   "display_name": "Python 3 (ipykernel)",
   "language": "python",
   "name": "python3"
  },
  "language_info": {
   "codemirror_mode": {
    "name": "ipython",
    "version": 3
   },
   "file_extension": ".py",
   "mimetype": "text/x-python",
   "name": "python",
   "nbconvert_exporter": "python",
   "pygments_lexer": "ipython3",
   "version": "3.9.7"
  }
 },
 "nbformat": 4,
 "nbformat_minor": 5
}
