{
 "cells": [
  {
   "cell_type": "markdown",
   "id": "a920288d",
   "metadata": {
    "slideshow": {
     "slide_type": "slide"
    }
   },
   "source": [
    "## Exercise: Greeting\n",
    "\n",
    "Define a variable called `first_name` and a variable called `year`. \\\n",
    "Set them to your name and to the PhD year you are in. Then print  \\\n",
    "`Hello, <first_name>! You are in year <year> of your PhD.` "
   ]
  },
  {
   "cell_type": "code",
   "execution_count": 1,
   "id": "c23eb628",
   "metadata": {
    "slideshow": {
     "slide_type": "slide"
    }
   },
   "outputs": [
    {
     "name": "stdout",
     "output_type": "stream",
     "text": [
      "Hello, Lina! You are in year 2 of your PhD.\n"
     ]
    }
   ],
   "source": [
    "# defining both variables as string \n",
    "# and using + to concatenate strings\n",
    "first_name = \"Lina\"\n",
    "year = \"2\"\n",
    "greeting = \"Hello, \" + first_name + \"! You are in year \" + year + \" of your PhD.\"\n",
    "print(greeting)"
   ]
  },
  {
   "cell_type": "code",
   "execution_count": 2,
   "id": "dd35db20",
   "metadata": {
    "slideshow": {
     "slide_type": "slide"
    }
   },
   "outputs": [
    {
     "name": "stdout",
     "output_type": "stream",
     "text": [
      "Hello, Lina! You are in year 2 of your PhD.\n"
     ]
    }
   ],
   "source": [
    "# defining both variables as string \n",
    "# and using print() to concatenate strings, specifying the seperator as the empty string\n",
    "first_name = \"Lina\"\n",
    "year = \"2\"\n",
    "print(\"Hello, \", first_name, \"! You are in year \", year, \" of your PhD.\", sep='')"
   ]
  },
  {
   "cell_type": "code",
   "execution_count": 3,
   "id": "20bff034",
   "metadata": {
    "slideshow": {
     "slide_type": "slide"
    }
   },
   "outputs": [
    {
     "name": "stdout",
     "output_type": "stream",
     "text": [
      "Hello, Lina! You are in year 2 of your PhD.\n"
     ]
    }
   ],
   "source": [
    "# defining the name as string and the year as int \n",
    "# year has to be cast to a string to concatenate the strings\n",
    "first_name = \"Lina\"\n",
    "year = 2\n",
    "greeting = \"Hello, \" + first_name + \"! You are in year \" + str(year) + \" of your PhD.\"\n",
    "print(greeting)"
   ]
  },
  {
   "cell_type": "code",
   "execution_count": 4,
   "id": "7f1029e2",
   "metadata": {
    "slideshow": {
     "slide_type": "slide"
    }
   },
   "outputs": [
    {
     "name": "stdout",
     "output_type": "stream",
     "text": [
      "Hello, Lina! You are in year 2 of your PhD.\n"
     ]
    }
   ],
   "source": [
    "# defining the name as string and the year as int \n",
    "# year does not have to be cast to a string to concatenate the strings with print()\n",
    "first_name = \"Lina\"\n",
    "year = 2\n",
    "print(\"Hello, \", first_name, \"! You are in year \", year, \" of your PhD.\", sep='')"
   ]
  },
  {
   "cell_type": "markdown",
   "id": "d0e4202c",
   "metadata": {
    "slideshow": {
     "slide_type": "slide"
    }
   },
   "source": [
    "## Exercise: Minimum\n",
    "\n",
    "Write a function that returns the minimum of three given integers.  \\\n",
    "Test with a few examples that your function returns the expected results. \\\n",
    "What happens if you pass a float or string to your function? "
   ]
  },
  {
   "cell_type": "code",
   "execution_count": 5,
   "id": "5d64f6c8",
   "metadata": {
    "slideshow": {
     "slide_type": "slide"
    }
   },
   "outputs": [
    {
     "name": "stdout",
     "output_type": "stream",
     "text": [
      "1\n",
      "1\n",
      "1\n",
      "2\n"
     ]
    }
   ],
   "source": [
    "# using on simple conditions\n",
    "def minimum(a, b, c):\n",
    "    if a < b:\n",
    "        if a < c:\n",
    "            return a\n",
    "        # c <= a\n",
    "        else:\n",
    "            # c <= a < b\n",
    "            return c\n",
    "    # b <= a\n",
    "    elif b < c: \n",
    "        return b\n",
    "    else: \n",
    "        return c\n",
    "\n",
    "print(minimum(1, 2, 3))\n",
    "print(minimum(2, 1, 3))\n",
    "print(minimum(3, 2, 1))\n",
    "print(minimum(2, 2, 2))"
   ]
  },
  {
   "cell_type": "code",
   "execution_count": 6,
   "id": "cbb469c1",
   "metadata": {
    "slideshow": {
     "slide_type": "slide"
    }
   },
   "outputs": [
    {
     "name": "stdout",
     "output_type": "stream",
     "text": [
      "1\n",
      "1\n",
      "1\n",
      "2\n"
     ]
    }
   ],
   "source": [
    "# using logical operators\n",
    "def minimum(a, b, c):\n",
    "    if a < b and a < c:\n",
    "        return a\n",
    "    elif b < a and b < c:\n",
    "        return b\n",
    "    else: \n",
    "        return c\n",
    "\n",
    "print(minimum(1, 2, 3))\n",
    "print(minimum(2, 1, 3))\n",
    "print(minimum(3, 2, 1))\n",
    "print(minimum(2, 2, 2))"
   ]
  },
  {
   "cell_type": "markdown",
   "id": "cc41cbc9",
   "metadata": {
    "slideshow": {
     "slide_type": "slide"
    }
   },
   "source": [
    "## Exercise: List of even numbers\n",
    "\n",
    "Write a function that returns a list of all even numbers from 0 upto and (potentially) including a given integer n. \\\n",
    "Test with a few examples that your function returns the expected results. \\\n",
    "Hint: the modulo operator (%) returns the remainder of a division. \\\n",
    "Try to get the results by using a loop or list comprehension. "
   ]
  },
  {
   "cell_type": "code",
   "execution_count": 7,
   "id": "99e234d9",
   "metadata": {
    "slideshow": {
     "slide_type": "slide"
    }
   },
   "outputs": [
    {
     "name": "stdout",
     "output_type": "stream",
     "text": [
      "[0, 2, 4, 6]\n"
     ]
    }
   ],
   "source": [
    "# for loop\n",
    "def even(n):\n",
    "    even = []\n",
    "    for i in range(n+1):\n",
    "        if(i%2 == 0):\n",
    "            even.append(i)\n",
    "    return even\n",
    "\n",
    "print(even(6))"
   ]
  },
  {
   "cell_type": "code",
   "execution_count": 8,
   "id": "5773e1c7",
   "metadata": {
    "slideshow": {
     "slide_type": "slide"
    }
   },
   "outputs": [
    {
     "name": "stdout",
     "output_type": "stream",
     "text": [
      "[0, 2, 4, 6]\n"
     ]
    }
   ],
   "source": [
    "# while loop\n",
    "def even(n):\n",
    "    even = []\n",
    "    i = 0\n",
    "    while i <= n:\n",
    "        if(i%2 == 0):\n",
    "            even.append(i)\n",
    "        i += 1\n",
    "    return even\n",
    "\n",
    "print(even(6))"
   ]
  },
  {
   "cell_type": "code",
   "execution_count": 9,
   "id": "f7517996",
   "metadata": {
    "slideshow": {
     "slide_type": "slide"
    }
   },
   "outputs": [
    {
     "name": "stdout",
     "output_type": "stream",
     "text": [
      "[0, 2, 4, 6]\n"
     ]
    }
   ],
   "source": [
    "# list comprehension\n",
    "def even(n):\n",
    "    return [x for x in range(n+1) if x%2 == 0]\n",
    "\n",
    "print(even(6))"
   ]
  }
 ],
 "metadata": {
  "kernelspec": {
   "display_name": "Python 3 (ipykernel)",
   "language": "python",
   "name": "python3"
  },
  "language_info": {
   "codemirror_mode": {
    "name": "ipython",
    "version": 3
   },
   "file_extension": ".py",
   "mimetype": "text/x-python",
   "name": "python",
   "nbconvert_exporter": "python",
   "pygments_lexer": "ipython3",
   "version": "3.9.7"
  }
 },
 "nbformat": 4,
 "nbformat_minor": 5
}
